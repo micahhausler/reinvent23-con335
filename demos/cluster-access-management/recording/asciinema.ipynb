{
 "cells": [
  {
   "cell_type": "code",
   "execution_count": 3,
   "id": "efa0d760-3b93-4f34-8ba0-bf5da72a6ee6",
   "metadata": {},
   "outputs": [],
   "source": [
    "import json\n",
    "# from itertools import enumerate"
   ]
  },
  {
   "cell_type": "code",
   "execution_count": 27,
   "id": "c0e4ab65-f34c-4c7d-9cb6-3b5d722cedf6",
   "metadata": {},
   "outputs": [],
   "source": [
    "remove = 5.148144"
   ]
  },
  {
   "cell_type": "code",
   "execution_count": 28,
   "id": "fea5dc2f-247d-4ce0-be3e-890f25b35b36",
   "metadata": {},
   "outputs": [],
   "source": [
    "\n",
    "# reduce all lines by `remove` seconds\n",
    "with open('cam.cast') as f:\n",
    "    with open('output.cast', 'w') as w:  \n",
    "        w.write(f.readline())# skip first line\n",
    "        for i, line in enumerate(f):\n",
    "            # if i < 268:\n",
    "            #     w.write(line)\n",
    "            #     continue\n",
    "            data = json.loads(line)\n",
    "            num = data[0] - remove\n",
    "            w.write(json.dumps([float(f'{num:.6f}'), data[1], data[2]])+\"\\n\")"
   ]
  },
  {
   "cell_type": "code",
   "execution_count": 29,
   "id": "0ef27cc2-4520-425f-be4d-67c8112261ce",
   "metadata": {},
   "outputs": [
    {
     "name": "stdout",
     "output_type": "stream",
     "text": [
      "1.1610719999999999\n"
     ]
    },
    {
     "data": {
      "text/plain": [
       "1.161072"
      ]
     },
     "execution_count": 29,
     "metadata": {},
     "output_type": "execute_result"
    }
   ],
   "source": [
    "result = 6.309216 - remove\n",
    "print(result)\n",
    "float(f'{result:.6f}')\n"
   ]
  },
  {
   "cell_type": "code",
   "execution_count": null,
   "id": "88c473ca-4c12-4cdb-8b8b-e41ed67ab10c",
   "metadata": {},
   "outputs": [],
   "source": []
  }
 ],
 "metadata": {
  "kernelspec": {
   "display_name": "Python 3 (ipykernel)",
   "language": "python",
   "name": "python3"
  },
  "language_info": {
   "codemirror_mode": {
    "name": "ipython",
    "version": 3
   },
   "file_extension": ".py",
   "mimetype": "text/x-python",
   "name": "python",
   "nbconvert_exporter": "python",
   "pygments_lexer": "ipython3",
   "version": "3.11.6"
  }
 },
 "nbformat": 4,
 "nbformat_minor": 5
}
